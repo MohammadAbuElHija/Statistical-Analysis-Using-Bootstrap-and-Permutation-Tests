{
  "nbformat": 4,
  "nbformat_minor": 0,
  "metadata": {
    "colab": {
      "provenance": []
    },
    "kernelspec": {
      "name": "python3",
      "display_name": "Python 3"
    },
    "language_info": {
      "name": "python"
    }
  },
  "cells": [
    {
      "cell_type": "code",
      "execution_count": null,
      "metadata": {
        "id": "Zx84m2Q8PlBw"
      },
      "outputs": [],
      "source": [
        "import pandas as pd\n",
        "import numpy as np\n",
        "import seaborn as sns\n",
        "import matplotlib.pyplot as plt\n",
        "import math\n",
        "from scipy.stats import norm\n",
        "import scipy.stats as stats\n",
        "import statsmodels.api as sm\n",
        "import random\n",
        "from sklearn.linear_model import LinearRegression, LogisticRegression\n",
        "from tabulate import tabulate\n",
        "import pylab"
      ]
    },
    {
      "cell_type": "code",
      "source": [
        "df = pd.read_csv(\"/content/cleaned_data.csv\")\n",
        "df['Debtor'] = df['Debtor'].map({'Yes': 1, 'No': 0})\n",
        "df['Scholarship holder'] = df['Scholarship holder'].map({'Yes': 1, 'No': 0})\n",
        "np.random.seed(1)\n",
        "sampled_data=df.sample(n=200)\n",
        "## taking only the columns we are working with\n",
        "covariates=sampled_data[['Debtor','Curricular units 1st sem (grade)','GDP']]\n",
        "Y=sampled_data['Curricular units 2nd sem (grade)']\n",
        "covariates_np=covariates.to_numpy()"
      ],
      "metadata": {
        "id": "H-58r5KjaYmg"
      },
      "execution_count": null,
      "outputs": []
    },
    {
      "cell_type": "code",
      "source": [
        "df[\"Gender\"]"
      ],
      "metadata": {
        "colab": {
          "base_uri": "https://localhost:8080/",
          "height": 458
        },
        "id": "vrqg6BEwiUnl",
        "outputId": "070449db-5bf5-470d-be86-0b0caac23519"
      },
      "execution_count": null,
      "outputs": [
        {
          "output_type": "execute_result",
          "data": {
            "text/plain": [
              "0         Male\n",
              "1         Male\n",
              "2         Male\n",
              "3       Female\n",
              "4       Female\n",
              "         ...  \n",
              "4419      Male\n",
              "4420    Female\n",
              "4421    Female\n",
              "4422    Female\n",
              "4423    Female\n",
              "Name: Gender, Length: 4424, dtype: object"
            ],
            "text/html": [
              "<div>\n",
              "<style scoped>\n",
              "    .dataframe tbody tr th:only-of-type {\n",
              "        vertical-align: middle;\n",
              "    }\n",
              "\n",
              "    .dataframe tbody tr th {\n",
              "        vertical-align: top;\n",
              "    }\n",
              "\n",
              "    .dataframe thead th {\n",
              "        text-align: right;\n",
              "    }\n",
              "</style>\n",
              "<table border=\"1\" class=\"dataframe\">\n",
              "  <thead>\n",
              "    <tr style=\"text-align: right;\">\n",
              "      <th></th>\n",
              "      <th>Gender</th>\n",
              "    </tr>\n",
              "  </thead>\n",
              "  <tbody>\n",
              "    <tr>\n",
              "      <th>0</th>\n",
              "      <td>Male</td>\n",
              "    </tr>\n",
              "    <tr>\n",
              "      <th>1</th>\n",
              "      <td>Male</td>\n",
              "    </tr>\n",
              "    <tr>\n",
              "      <th>2</th>\n",
              "      <td>Male</td>\n",
              "    </tr>\n",
              "    <tr>\n",
              "      <th>3</th>\n",
              "      <td>Female</td>\n",
              "    </tr>\n",
              "    <tr>\n",
              "      <th>4</th>\n",
              "      <td>Female</td>\n",
              "    </tr>\n",
              "    <tr>\n",
              "      <th>...</th>\n",
              "      <td>...</td>\n",
              "    </tr>\n",
              "    <tr>\n",
              "      <th>4419</th>\n",
              "      <td>Male</td>\n",
              "    </tr>\n",
              "    <tr>\n",
              "      <th>4420</th>\n",
              "      <td>Female</td>\n",
              "    </tr>\n",
              "    <tr>\n",
              "      <th>4421</th>\n",
              "      <td>Female</td>\n",
              "    </tr>\n",
              "    <tr>\n",
              "      <th>4422</th>\n",
              "      <td>Female</td>\n",
              "    </tr>\n",
              "    <tr>\n",
              "      <th>4423</th>\n",
              "      <td>Female</td>\n",
              "    </tr>\n",
              "  </tbody>\n",
              "</table>\n",
              "<p>4424 rows × 1 columns</p>\n",
              "</div><br><label><b>dtype:</b> object</label>"
            ]
          },
          "metadata": {},
          "execution_count": 28
        }
      ]
    },
    {
      "cell_type": "markdown",
      "source": [
        "**Part A**"
      ],
      "metadata": {
        "id": "QIVU9HaAP4NU"
      }
    },
    {
      "cell_type": "code",
      "source": [
        "B=400"
      ],
      "metadata": {
        "id": "_BTXkNd3P6lF"
      },
      "execution_count": null,
      "outputs": []
    },
    {
      "cell_type": "markdown",
      "source": [
        "1)"
      ],
      "metadata": {
        "id": "9oNCj6ZDbNg6"
      }
    },
    {
      "cell_type": "markdown",
      "source": [
        "a.."
      ],
      "metadata": {
        "id": "p109iqcPaqqV"
      }
    },
    {
      "cell_type": "code",
      "source": [
        "alpha = 0.05\n",
        "X = np.array(sampled_data[['Debtor','Curricular units 1st sem (grade)','GDP']])\n",
        "X=np.insert(X,0,np.ones(X.shape[0]),axis=1)\n",
        "y = sampled_data['Curricular units 2nd sem (grade)']\n",
        "reg = LinearRegression(fit_intercept=False).fit(X, y)\n",
        "SSE = sum([(reg.predict([X[i]])[0] - y.iloc[i])**2 for i in range(len(X))])\n",
        "degrees_freedom =  X.shape[0] - (X.shape[1])\n",
        "MSRes =  SSE / degrees_freedom\n",
        "sigma_epsilon_squared = MSRes\n",
        "C = np.linalg.inv(X.T @ X)\n",
        "intrval_quantile = stats.t.ppf(q=(1 - alpha / 2), df=(X.shape[0] - (X.shape[1])))\n",
        "\n",
        "confidence_intervals = [[beta - intrval_quantile * (sigma_epsilon_squared * C[i][i]) ** 0.5,\n",
        "                         beta + intrval_quantile * (sigma_epsilon_squared * C[i][i]) ** 0.5]\n",
        "                        for i, beta in enumerate(list(reg.coef_))]\n",
        "\n",
        "print(\"The CI for beta over the sampled data:\")\n",
        "for i, feature in enumerate([\"Intercept\",'Debtor','Curricular units 1st sem (grade)','GDP']):\n",
        "    print(f\"The beta_{feature} CI is\", confidence_intervals[i])"
      ],
      "metadata": {
        "colab": {
          "base_uri": "https://localhost:8080/"
        },
        "id": "vUFKk-z_Qkux",
        "outputId": "3400a593-9541-4811-9c5c-4aab044758e5"
      },
      "execution_count": null,
      "outputs": [
        {
          "output_type": "stream",
          "name": "stdout",
          "text": [
            "The CI for beta over the sampled data:\n",
            "The beta_Intercept CI is [-0.1714158182131129, 1.9430005063525084]\n",
            "The beta_Debtor CI is [-2.640756124184122, -0.44600409957892784]\n",
            "The beta_Curricular units 1st sem (grade) CI is [0.8078121252014012, 0.9797431878276603]\n",
            "The beta_GDP CI is [-0.05186221414302267, 0.26512837377957865]\n"
          ]
        }
      ]
    },
    {
      "cell_type": "markdown",
      "source": [
        "b."
      ],
      "metadata": {
        "id": "SwmWG4vdbPGK"
      }
    },
    {
      "cell_type": "code",
      "source": [
        "alpha = 0.05\n",
        "z_quantile = stats.norm.ppf(1 - (alpha / 2))\n",
        "X = np.array(sampled_data[['Debtor','Curricular units 1st sem (grade)','GDP']])\n",
        "y = sampled_data['Curricular units 2nd sem (grade)']\n",
        "X=np.insert(X,0,np.ones(X.shape[0]),axis=1)\n",
        "beta = np.linalg.inv(X.T @ X) @ X.T @ y\n",
        "ci_normal_boot = []\n",
        "sum_boot_strap_betas = np.zeros(len(beta))\n",
        "square_boot_strap_betas = np.zeros(len(beta))\n",
        "boot_strap_betas = []\n",
        "for iteration in range(B):\n",
        "    boot_strap_df = sampled_data.sample(200, replace=True)\n",
        "\n",
        "    X_iteration = np.insert(np.array(boot_strap_df[['Debtor','Curricular units 1st sem (grade)','GDP']]), 0, np.ones(200), axis=1)\n",
        "    Y_iteration = np.array(boot_strap_df['Curricular units 2nd sem (grade)'])\n",
        "\n",
        "    beta_iteration = np.linalg.inv(X_iteration.T @ X_iteration) @ X_iteration.T @ Y_iteration\n",
        "    boot_strap_betas.append(beta_iteration)\n",
        "    sum_boot_strap_betas += beta_iteration.reshape(4,)\n",
        "    square_boot_strap_betas += beta_iteration.reshape(4,) ** 2\n",
        "\n",
        "se_boot = (square_boot_strap_betas / B - (sum_boot_strap_betas / B) ** 2) ** 0.5\n",
        "\n",
        "for i, b in enumerate(list(reg.coef_)):\n",
        "    ci_normal_boot.append([b - z_quantile * se_boot[i], b + z_quantile * se_boot[i]])\n",
        "\n",
        "print(\"The CI for beta over the sampled data using s.e._bootstrap:\")\n",
        "for i, feature in enumerate([\"Intercept\",'Debtor','Curricular units 1st sem (grade)','GDP']):\n",
        "    print(f\"The beta_{feature} CI is\", ci_normal_boot[i])"
      ],
      "metadata": {
        "colab": {
          "base_uri": "https://localhost:8080/"
        },
        "id": "p7AUBS8xbP8y",
        "outputId": "fa11e463-0416-4b88-d62b-62db05c853da"
      },
      "execution_count": null,
      "outputs": [
        {
          "output_type": "stream",
          "name": "stdout",
          "text": [
            "The CI for beta over the sampled data using s.e._bootstrap:\n",
            "The beta_Intercept CI is [-0.23175947310558342, 2.003344161244979]\n",
            "The beta_Debtor CI is [-3.2674946752894645, 0.18073445152641465]\n",
            "The beta_Curricular units 1st sem (grade) CI is [0.8077861982278899, 0.9797691148011717]\n",
            "The beta_GDP CI is [-0.042412721366091755, 0.25567888100264774]\n"
          ]
        }
      ]
    },
    {
      "cell_type": "markdown",
      "source": [
        "c."
      ],
      "metadata": {
        "id": "eJyACdTfbc5D"
      }
    },
    {
      "cell_type": "code",
      "source": [
        "beta =list(reg.coef_)\n",
        "ci_pivot_boot = []\n",
        "bootstrap_betas_per_features = [[], [], [], []]\n",
        "\n",
        "for coef in boot_strap_betas:\n",
        "    for i in range(len(beta)):\n",
        "        bootstrap_betas_per_features[i].append(coef[i])\n",
        "\n",
        "for i in range(len(beta)):\n",
        "    values = bootstrap_betas_per_features[i]\n",
        "    values.sort()\n",
        "    first_quantile = values[int(B * (1 - alpha/2))]\n",
        "    second_quantile = values[int(B * (alpha/2))]\n",
        "    ci_pivot_boot.append([2*beta[i] - first_quantile, 2*beta[i] - second_quantile])\n",
        "\n",
        "print(\"The CI for beta over the sampled data using pivotal intervals:\")\n",
        "for i, feature in enumerate([\"Intercept\",'Debtor','Curricular units 1st sem (grade)','GDP']):\n",
        "    print(f\"The beta_{feature} CI is\", ci_pivot_boot[i])"
      ],
      "metadata": {
        "colab": {
          "base_uri": "https://localhost:8080/"
        },
        "id": "nQ2e0HtYbddh",
        "outputId": "5e59b88a-27fd-4137-f235-883017f98a7b"
      },
      "execution_count": null,
      "outputs": [
        {
          "output_type": "stream",
          "name": "stdout",
          "text": [
            "The CI for beta over the sampled data using pivotal intervals:\n",
            "The beta_Intercept CI is [-0.4732646144812276, 1.7305494094998024]\n",
            "The beta_Debtor CI is [-3.1599898315617407, 0.2976422004422812]\n",
            "The beta_Curricular units 1st sem (grade) CI is [0.8256351829300803, 0.9872945421925423]\n",
            "The beta_GDP CI is [-0.036439387431081216, 0.24856169650662324]\n"
          ]
        }
      ]
    },
    {
      "cell_type": "code",
      "source": [
        "ci_quantile_boot = []\n",
        "\n",
        "for i in range(len(beta)):\n",
        "    values = bootstrap_betas_per_features[i]\n",
        "    first_quantile = values[int(B * (1 - alpha/2))]\n",
        "    second_quantile = values[int(B * (alpha/2))]\n",
        "    ci_quantile_boot.append([second_quantile, first_quantile])\n",
        "print(\"The CI for beta over the sampled data using percentile intervals:\")\n",
        "for i, feature in enumerate([\"Intercept\",'Debtor','Curricular units 1st sem (grade)','GDP']):\n",
        "    print(f\"The beta_{feature} CI is\", ci_quantile_boot[i])"
      ],
      "metadata": {
        "colab": {
          "base_uri": "https://localhost:8080/"
        },
        "id": "8fKAFs-GbnCg",
        "outputId": "717d82db-728d-4268-a8a3-46c2bd87fa85"
      },
      "execution_count": null,
      "outputs": [
        {
          "output_type": "stream",
          "name": "stdout",
          "text": [
            "The CI for beta over the sampled data using percentile intervals:\n",
            "The beta_Intercept CI is [0.041035278639593026, 2.244849302620623]\n",
            "The beta_Debtor CI is [-3.384402424205331, 0.07322960779869114]\n",
            "The beta_Curricular units 1st sem (grade) CI is [0.8002607708365193, 0.9619201300989813]\n",
            "The beta_GDP CI is [-0.03529553687006727, 0.2497055470676372]\n"
          ]
        }
      ]
    },
    {
      "cell_type": "markdown",
      "source": [
        "2)"
      ],
      "metadata": {
        "id": "_TdyZE4YbsT5"
      }
    },
    {
      "cell_type": "code",
      "source": [
        "X_full = np.insert(np.array(df[['Debtor','Curricular units 1st sem (grade)','GDP']]), 0, np.ones(len(df)), axis=1)\n",
        "Y_full = np.array(df['Curricular units 2nd sem (grade)'])\n",
        "\n",
        "beta_hat = np.linalg.inv(X_full.T @ X_full) @ X_full.T @ Y_full\n",
        "\n",
        "method_CI = [confidence_intervals, ci_normal_boot, ci_pivot_boot, ci_quantile_boot]\n",
        "features = [\"Intercept\",'Debtor','Curricular units 1st sem (grade)','GDP']\n",
        "for i, coef in enumerate(beta_hat):\n",
        "    print(\"-\" * 100)\n",
        "    print(f\"beta_{features[i]}:\")\n",
        "    for j, method in enumerate([\"normal approximation\",\n",
        "                                \"bootstrap normal approximation\", \"pivotal bootstrap\", \"quantiles bootstrap\"]):\n",
        "        print(method, \"length:\", method_CI[j][i][1] - method_CI[j][i][0],\n",
        "              \"beta in CI:\", method_CI[j][i][0] <= coef <= method_CI[j][i][1])\n",
        "    print()"
      ],
      "metadata": {
        "colab": {
          "base_uri": "https://localhost:8080/"
        },
        "id": "cixXkJAEbtGE",
        "outputId": "755ebe7c-2ee7-40e6-a9dc-c5ac8bf8b4d4"
      },
      "execution_count": null,
      "outputs": [
        {
          "output_type": "stream",
          "name": "stdout",
          "text": [
            "----------------------------------------------------------------------------------------------------\n",
            "beta_Intercept:\n",
            "normal approximation length: 2.1144163245656213 beta in CI: True\n",
            "bootstrap normal approximation length: 2.2351036343505624 beta in CI: True\n",
            "pivotal bootstrap length: 2.20381402398103 beta in CI: True\n",
            "quantiles bootstrap length: 2.20381402398103 beta in CI: True\n",
            "\n",
            "----------------------------------------------------------------------------------------------------\n",
            "beta_Debtor:\n",
            "normal approximation length: 2.1947520246051946 beta in CI: True\n",
            "bootstrap normal approximation length: 3.448229126815879 beta in CI: True\n",
            "pivotal bootstrap length: 3.457632032004022 beta in CI: True\n",
            "quantiles bootstrap length: 3.457632032004022 beta in CI: True\n",
            "\n",
            "----------------------------------------------------------------------------------------------------\n",
            "beta_Curricular units 1st sem (grade):\n",
            "normal approximation length: 0.17193106262625912 beta in CI: True\n",
            "bootstrap normal approximation length: 0.1719829165732818 beta in CI: True\n",
            "pivotal bootstrap length: 0.161659359262462 beta in CI: True\n",
            "quantiles bootstrap length: 0.161659359262462 beta in CI: True\n",
            "\n",
            "----------------------------------------------------------------------------------------------------\n",
            "beta_GDP:\n",
            "normal approximation length: 0.3169905879226013 beta in CI: True\n",
            "bootstrap normal approximation length: 0.2980916023687395 beta in CI: True\n",
            "pivotal bootstrap length: 0.28500108393770446 beta in CI: True\n",
            "quantiles bootstrap length: 0.28500108393770446 beta in CI: True\n",
            "\n"
          ]
        }
      ]
    },
    {
      "cell_type": "markdown",
      "source": [
        "As we can see from the printed information above the CI's for the coeffecients,we see the length of the four CI's for each coeffecient differs but we can see that for all the coeffecients we get the same CI length for quantiles bootstrap CI and pivotal bootstrap CI."
      ],
      "metadata": {
        "id": "nD1pAnl7csiD"
      }
    },
    {
      "cell_type": "markdown",
      "source": [
        "3)"
      ],
      "metadata": {
        "id": "B75k7fcIczS7"
      }
    },
    {
      "cell_type": "markdown",
      "source": [
        "a."
      ],
      "metadata": {
        "id": "VF3wV_k9c043"
      }
    },
    {
      "cell_type": "code",
      "source": [
        "np.random.seed(1)\n",
        "sampled_data2 = df.drop(list(sampled_data.index)).sample(n=100)\n",
        "X_test = np.insert(np.array(sampled_data2[['Debtor','Curricular units 1st sem (grade)','GDP']]), 0, np.ones(100), axis=1)\n",
        "y_label = sampled_data2['Curricular units 2nd sem (grade)']\n",
        "y_predicted = X_test @ beta"
      ],
      "metadata": {
        "id": "EVNaONkCcyMQ"
      },
      "execution_count": null,
      "outputs": []
    },
    {
      "cell_type": "markdown",
      "source": [
        "b."
      ],
      "metadata": {
        "id": "P2cFYDGldChA"
      }
    },
    {
      "cell_type": "code",
      "source": [
        "pred_in_CI_indicators=[]\n",
        "\n",
        "for i, x in enumerate(X_test):\n",
        "    cis_pivot_boot_for_prediction = []\n",
        "    bootstrap_predictions = []\n",
        "\n",
        "    for boot_beta in boot_strap_betas:\n",
        "        prediction = x @ boot_beta\n",
        "        bootstrap_predictions.append(prediction)\n",
        "\n",
        "    bootstrap_predictions.sort()\n",
        "    first_quantile = bootstrap_predictions[int(B * (1 - alpha/2))]\n",
        "    second_quantile = bootstrap_predictions[int(B * (alpha/2))]\n",
        "    cis_pivot_boot_for_prediction = [2 * y_predicted[i] - first_quantile,\n",
        "                                     2 * y_predicted[i] - second_quantile]\n",
        "\n",
        "    pred_in_CI_indicators.append(cis_pivot_boot_for_prediction[0] <= list(y_label)[i] <= cis_pivot_boot_for_prediction[1])"
      ],
      "metadata": {
        "id": "PO-SrOURdDoW"
      },
      "execution_count": null,
      "outputs": []
    },
    {
      "cell_type": "markdown",
      "source": [
        "c."
      ],
      "metadata": {
        "id": "hER9eqp-dHyQ"
      }
    },
    {
      "cell_type": "code",
      "source": [
        "print(\"The percent of CIs that contain the real value Y_new is\",\n",
        "      sum(pred_in_CI_indicators) / len(pred_in_CI_indicators))"
      ],
      "metadata": {
        "colab": {
          "base_uri": "https://localhost:8080/"
        },
        "id": "0IpGl__NdIt7",
        "outputId": "6065de06-19f5-4895-fa3c-a0fa9ef48309"
      },
      "execution_count": null,
      "outputs": [
        {
          "output_type": "stream",
          "name": "stdout",
          "text": [
            "The percent of CIs that contain the real value Y_new is 0.46\n"
          ]
        }
      ]
    },
    {
      "cell_type": "markdown",
      "source": [
        "Althought 46% is far from 95% confidence level we chose for the CI, this happens because we have dismissed the noise factor since we are looking at the CI for the expectation of Ynew given Xnew and not for Ynew itself. Thus, we have a narrower CI."
      ],
      "metadata": {
        "id": "qsQYyD4UdTXk"
      }
    },
    {
      "cell_type": "markdown",
      "source": [
        "d."
      ],
      "metadata": {
        "id": "sKNteRkvdV-d"
      }
    },
    {
      "cell_type": "markdown",
      "source": [
        "In order to the confidence interval, we have to calculate the variance of the estimator for the Ynew plus the estimator for the noise. So we will do bootstraping to get each time the estimator for Ynew, and we will do bootstraping to get the estimator for the noise. At the end we calculate the confidence interval using the normal approximation confidence intervals."
      ],
      "metadata": {
        "id": "ggKiQpE3dW9o"
      }
    },
    {
      "cell_type": "markdown",
      "source": [
        "**Part B:**"
      ],
      "metadata": {
        "id": "LdFIO7kvdmJs"
      }
    },
    {
      "cell_type": "markdown",
      "source": [
        "Our Test Question: does the first semester grade different among Male and Female?"
      ],
      "metadata": {
        "id": "c-57yaz1hjtn"
      }
    },
    {
      "cell_type": "markdown",
      "source": [
        "1)"
      ],
      "metadata": {
        "id": "af1Ej0W4h3eS"
      }
    },
    {
      "cell_type": "markdown",
      "source": [
        "Does the  first semester grade among females (denoted  Xfemales  ) is less than the  first semester grade among males (denoted  Xmales  ) in the usual stochastic order?\n",
        "\n",
        "In other words, the question is: does the following hold:  Xmales ≻ Xfemales"
      ],
      "metadata": {
        "id": "RtEKGr1NhqsU"
      }
    },
    {
      "cell_type": "markdown",
      "source": [
        "2)"
      ],
      "metadata": {
        "id": "aa-uGe4th79_"
      }
    },
    {
      "cell_type": "code",
      "source": [
        "np.random.seed(1)\n",
        "sample = df.sample(n=200, random_state=10)"
      ],
      "metadata": {
        "id": "a8V2mzx6dfLc"
      },
      "execution_count": null,
      "outputs": []
    },
    {
      "cell_type": "markdown",
      "source": [
        "3)"
      ],
      "metadata": {
        "id": "rj_g61wmiDUv"
      }
    },
    {
      "cell_type": "markdown",
      "source": [
        "a."
      ],
      "metadata": {
        "id": "e8YXIo5FiFKE"
      }
    },
    {
      "cell_type": "markdown",
      "source": [
        "We define  μ1  and  μ2  to be the expectations of  Xfemales  and  Xmales  respectively. We now estimate them. As we learned, the unbiased estimator to the expectation is the mean. We estimate their difference  δ  by the differnce of the means. By the delta method we get that the estimator for  δ  is the difference of the means (MLE's for the variables)."
      ],
      "metadata": {
        "id": "JdmOGom1iH45"
      }
    },
    {
      "cell_type": "code",
      "source": [
        "categorical_variable='Gender'\n",
        "means = sample[['Gender','Curricular units 1st sem (grade)']].groupby(categorical_variable).mean()\n",
        "categorical_values=['Female','Male']\n",
        "continuous_variable='Curricular units 1st sem (grade)'\n",
        "mean_cat_1 = means.loc[categorical_values[0], continuous_variable]\n",
        "mean_cat_2 = means.loc[categorical_values[1], continuous_variable]\n",
        "\n",
        "delta_hat = mean_cat_1 - mean_cat_2"
      ],
      "metadata": {
        "id": "UUpL_HEviFve"
      },
      "execution_count": null,
      "outputs": []
    },
    {
      "cell_type": "code",
      "source": [
        "print(f'estimator for mu1 is: {mean_cat_1}')\n",
        "print(f'estimator for mu2 is: {mean_cat_2}')\n",
        "print(f'estimator for delta is: {delta_hat}')"
      ],
      "metadata": {
        "colab": {
          "base_uri": "https://localhost:8080/"
        },
        "id": "6R1adV75iP6Z",
        "outputId": "a86e2f35-f12e-4e92-d86b-85621910b7eb"
      },
      "execution_count": null,
      "outputs": [
        {
          "output_type": "stream",
          "name": "stdout",
          "text": [
            "estimator for mu1 is: 11.315553068605087\n",
            "estimator for mu2 is: 8.83190821697864\n",
            "estimator for delta is: 2.4836448516264475\n"
          ]
        }
      ]
    },
    {
      "cell_type": "markdown",
      "source": [
        "also we want to gain some knowledge about the distribution of the data. To do that, we plot two histograms for the data in the sample, that approximate the density of the two random variables:"
      ],
      "metadata": {
        "id": "ZvSAlGh0ixuY"
      }
    },
    {
      "cell_type": "code",
      "source": [
        "plt.figure(figsize=(15, 12))\n",
        "plt.subplots_adjust(hspace=0.2)\n",
        "plt.suptitle(\"Sample histogram for the Curricular units 1st sem (grade) among Feamles and Males\", fontsize=18, y=0.95)\n",
        "\n",
        "categ = sample['Gender'].unique()\n",
        "nc = math.ceil(len(categ)/2)\n",
        "nrows=nc\n",
        "ncols=2\n",
        "\n",
        "for n, c in enumerate(categ):\n",
        "  data = sample[sample['Gender']==c]['Curricular units 1st sem (grade)']\n",
        "  mean = data.mean()\n",
        "  median = data.median()\n",
        "  ax = plt.subplot(nrows, ncols, n + 1)\n",
        "  data.hist(ax=ax, bins=10, ec=\"black\", color=\"lightcoral\")\n",
        "  ax.set(ylabel=\"counts\", xlabel='Curricular units 1st sem (grade)',title=str(c))\n",
        "plt.show()"
      ],
      "metadata": {
        "colab": {
          "base_uri": "https://localhost:8080/",
          "height": 1000
        },
        "id": "Ov7oILQ-i08S",
        "outputId": "8316aa6b-4ae5-4a04-f300-738d2c3387fc"
      },
      "execution_count": null,
      "outputs": [
        {
          "output_type": "display_data",
          "data": {
            "text/plain": [
              "<Figure size 1500x1200 with 2 Axes>"
            ],
            "image/png": "[encoded data removed]"
          },
          "metadata": {}
        }
      ]
    },
    {
      "cell_type": "markdown",
      "source": [
        "According to the histograms, we are not able to determine what is the distribution of the two random variables that we explore. Thus, we have no information about the statistical model of the data ."
      ],
      "metadata": {
        "id": "eWU9WypAjBHP"
      }
    },
    {
      "cell_type": "markdown",
      "source": [
        "b."
      ],
      "metadata": {
        "id": "ZR3HGNybjCv_"
      }
    },
    {
      "cell_type": "markdown",
      "source": [
        "Next, we calculate a CI for the difference between the expected value. We use what we learned in the course statistics 1, for building a CI for the expected value of the differennce of two independent samples with identical unknown variance. We note that this test is intended for normally distributed data, so that this is only an approximated CI."
      ],
      "metadata": {
        "id": "n_lEOxNZjMSO"
      }
    },
    {
      "cell_type": "markdown",
      "source": [
        "we will conduct an F test with α=0.05 to check if the null hypothesis that we have equal variance between females and males holds:"
      ],
      "metadata": {
        "id": "P6q7HnuPjOr-"
      }
    },
    {
      "cell_type": "code",
      "source": [
        "Females = sample[sample[\"Gender\"] == \"Female\"]\n",
        "Males = sample[sample[\"Gender\"] == \"Male\"]\n",
        "\n",
        "variances=sample.groupby(categorical_variable).var(numeric_only=True)\n",
        "variance_category1=variances.loc[categorical_values[0],continuous_variable]\n",
        "variance_category2=variances.loc[categorical_values[1],continuous_variable]\n",
        "F_test_statistic = variance_category1/variance_category2\n",
        "F_quantile = stats.f.ppf(0.95,len(Females)-1,len(Males)-1)\n",
        "testResult = F_test_statistic > F_quantile # true iff we reject H_0\n",
        "print(\"Do we reject the Null Hypothesis?\")\n",
        "if testResult==False:\n",
        "  print('No')\n",
        "else:\n",
        "  print('Yes')"
      ],
      "metadata": {
        "colab": {
          "base_uri": "https://localhost:8080/"
        },
        "id": "d8wBRkj3jBwu",
        "outputId": "2ac8814d-e6f3-4fd0-8ee7-2247b65f7b45"
      },
      "execution_count": null,
      "outputs": [
        {
          "output_type": "stream",
          "name": "stdout",
          "text": [
            "Do we reject the Null Hypothesis?\n",
            "No\n"
          ]
        }
      ]
    },
    {
      "cell_type": "markdown",
      "source": [
        "as we see we will not reject the null hypotheses for  α=0.05  thus we conclude that it is safe to say that the variances are equal"
      ],
      "metadata": {
        "id": "GPaZ-MlvjaiZ"
      }
    },
    {
      "cell_type": "code",
      "source": [
        "\n",
        "n1 = len(Females)\n",
        "n2 = len(Males)\n",
        "\n",
        "print(f'Number of Females in the sample: {n1}')\n",
        "print(f'Number of Males in the sample: {n2}')\n",
        "\n",
        "se_Females = (sum((Females[\"Curricular units 1st sem (grade)\"] - mean_cat_1) ** 2)) / (n1 - 1)\n",
        "se_Males = (sum((Males[\"Curricular units 1st sem (grade)\"] - mean_cat_2) ** 2)) / (n2 - 1)\n",
        "\n",
        "sp = (((n1 - 1) * se_Females + (n2 - 1) * se_Males) / (n1 + n2 - 2)) ** 0.5\n",
        "delta_ci_meu = [delta_hat - 2 * sp * (1 / n1 + 1 / n2) ** 0.5, delta_hat + 2 * sp * (1 / n1 + 1 / n2) ** 0.5]\n",
        "print(f'CI is: {delta_ci_meu}')"
      ],
      "metadata": {
        "colab": {
          "base_uri": "https://localhost:8080/"
        },
        "id": "ujOZk0S2jciX",
        "outputId": "4b042c62-945e-4fd6-e9ce-f9d7ccd5a27d"
      },
      "execution_count": null,
      "outputs": [
        {
          "output_type": "stream",
          "name": "stdout",
          "text": [
            "Number of Females in the sample: 129\n",
            "Number of Males in the sample: 71\n",
            "CI is: [0.9817103419769839, 3.985579361275911]\n"
          ]
        }
      ]
    },
    {
      "cell_type": "markdown",
      "source": [
        "c."
      ],
      "metadata": {
        "id": "rnRBIa_Ijmjm"
      }
    },
    {
      "cell_type": "code",
      "source": [
        "means = df[['Gender','Curricular units 1st sem (grade)']].groupby(categorical_variable).mean()\n",
        "mean_cat_1 = means.loc[categorical_values[0], continuous_variable]\n",
        "mean_cat_2 = means.loc[categorical_values[1], continuous_variable]\n",
        "\n",
        "delta_hat_total= mean_cat_1 - mean_cat_2\n",
        "\n",
        "is_in_CI = delta_hat_total <= delta_ci_meu[1] and delta_hat_total >= delta_ci_meu[0]\n",
        "print(f'the delta on all data is in the CI: {is_in_CI}')"
      ],
      "metadata": {
        "colab": {
          "base_uri": "https://localhost:8080/"
        },
        "id": "GREZZtlSjnGl",
        "outputId": "f4661fc9-9075-499d-a81f-211fd9666279"
      },
      "execution_count": null,
      "outputs": [
        {
          "output_type": "stream",
          "name": "stdout",
          "text": [
            "the delta on all data is in the CI: True\n"
          ]
        }
      ]
    },
    {
      "cell_type": "markdown",
      "source": [
        "d."
      ],
      "metadata": {
        "id": "8MKBoVlUjz8u"
      }
    },
    {
      "cell_type": "markdown",
      "source": [
        "Next, we test the hypothesis of question 1 using the wald's test and the permutation test.\n",
        "\n",
        "We start with the Wald's test, with α = 0.05 - as we saw in class (where X, Y are the two random variables we have here: $X_{males}$\n",
        "  and  $X_{females}$\n",
        " ):"
      ],
      "metadata": {
        "id": "dnAo6a1Ej3d1"
      }
    },
    {
      "cell_type": "markdown",
      "source": [
        "$$H_0: δ = 0$$\n",
        "\n",
        "$$H_1: \\delta > 0$$\n",
        "\n",
        "$$T.s: W = \\frac{X_n - Y_m}{\\sqrt{\\frac{S^2_x}{n}+\\frac{S^2_y}{m}}}$$\n",
        "\n",
        "$$R.R: W > Z_{α}$$"
      ],
      "metadata": {
        "id": "989juvSJj7IF"
      }
    },
    {
      "cell_type": "code",
      "source": [
        "s_x = (sum((Males['Curricular units 1st sem (grade)'] - mean_cat_2) ** 2)) / n2\n",
        "s_y = (sum((Females['Curricular units 1st sem (grade)'] - mean_cat_1) ** 2)) / n1\n",
        "\n",
        "W = (mean_cat_2 - mean_cat_1) / (s_x / n2 + s_y / n1) ** 0.5\n",
        "z = stats.norm.ppf(0.95)\n",
        "print('We reject H0' if W> z else 'We do not reject H0')"
      ],
      "metadata": {
        "colab": {
          "base_uri": "https://localhost:8080/"
        },
        "id": "37LD3Mntj0oA",
        "outputId": "d766f824-d087-431a-9146-d6e1f16035d6"
      },
      "execution_count": null,
      "outputs": [
        {
          "output_type": "stream",
          "name": "stdout",
          "text": [
            "We do not reject H0\n"
          ]
        }
      ]
    },
    {
      "cell_type": "markdown",
      "source": [
        "We now use a permutation test, as we saw in class:"
      ],
      "metadata": {
        "id": "dQ_z1FdskICu"
      }
    },
    {
      "cell_type": "markdown",
      "source": [
        "$$H_0: F_X = F_Y$$\n",
        "\n",
        "$$H_1: F_X > F_Y$$\n",
        "\n",
        "$$T.s: X_n - Y_m$$\n",
        "\n",
        "$$p_{value} = \\frac{Σ^{(^N_n)}_j I_{T_j > T_0}}{(^N_n)}$$\n",
        "\n",
        "$$R.R: p_{value} < α$$"
      ],
      "metadata": {
        "id": "N-dQK5fAkMGE"
      }
    },
    {
      "cell_type": "code",
      "source": [
        "import random\n",
        "\n",
        "random.seed(31)\n",
        "\n",
        "\n",
        "counter = 0\n",
        "for b in range(B):\n",
        "    indices = sample.index.tolist()\n",
        "    Females_indices = random.sample(indices, n1)\n",
        "    Males_indices = set(indices).difference(set(Females_indices))\n",
        "\n",
        "    mu_1_perm = sample[\"Curricular units 1st sem (grade)\"][list(Females_indices)].mean()\n",
        "    mu_2_perm = sample[\"Curricular units 1st sem (grade)\"][list(Males_indices)].mean()\n",
        "\n",
        "    if mu_1_perm - mu_2_perm >= delta_hat:\n",
        "        counter += 1\n",
        "\n",
        "pval = counter/B\n",
        "\n",
        "print(\"p-value is: \", pval)\n",
        "print('We reject H0' if 0.05 > pval else 'We do not reject H0')"
      ],
      "metadata": {
        "colab": {
          "base_uri": "https://localhost:8080/"
        },
        "id": "HOcPjcIkkN2H",
        "outputId": "9b2a86d4-06db-413c-dafa-505b63de2e30"
      },
      "execution_count": null,
      "outputs": [
        {
          "output_type": "stream",
          "name": "stdout",
          "text": [
            "p-value is:  0.0\n",
            "We reject H0\n"
          ]
        }
      ]
    },
    {
      "cell_type": "markdown",
      "source": [
        "**notice if instead of B in the P_val we used $(^N_n)$** where N=n1+n2 and n=n2 we will get a very large number of permutations, so we chose to only divide by B and do the sampling of the ranks B times since becuase of the randomality it is not guaranteed that we get all the different ranks permutations assigned to both females group and males group we might get the same permutation twice."
      ],
      "metadata": {
        "id": "lBv15hTrkcR4"
      }
    },
    {
      "cell_type": "markdown",
      "source": [
        "4)"
      ],
      "metadata": {
        "id": "cMa7nILUkeLx"
      }
    },
    {
      "cell_type": "markdown",
      "source": [
        "a."
      ],
      "metadata": {
        "id": "foQkz52Kkk7B"
      }
    },
    {
      "cell_type": "code",
      "source": [
        "m1_hat = np.quantile(Females[\"Curricular units 1st sem (grade)\"], 0.5)\n",
        "m2_hat = np.quantile(Males[\"Curricular units 1st sem (grade)\"], 0.5)\n",
        "delta_m = m2_hat - m1_hat\n",
        "\n",
        "print(f'estimator for m1 is: {m1_hat}')\n",
        "print(f'estimator for m2 is: {m2_hat}')\n",
        "print(f'estimator for m2-m1 is: {delta_m}')"
      ],
      "metadata": {
        "colab": {
          "base_uri": "https://localhost:8080/"
        },
        "id": "aPfnOUnlkj0n",
        "outputId": "ecbd5331-402e-48f7-e1d8-358c1de34dc2"
      },
      "execution_count": null,
      "outputs": [
        {
          "output_type": "stream",
          "name": "stdout",
          "text": [
            "estimator for m1 is: 12.59125\n",
            "estimator for m2 is: 12.0\n",
            "estimator for m2-m1 is: -0.5912500000000005\n"
          ]
        }
      ]
    },
    {
      "cell_type": "markdown",
      "source": [
        "b."
      ],
      "metadata": {
        "id": "pNi7aAh7lAGr"
      }
    },
    {
      "cell_type": "code",
      "source": [
        "def quant(lst, val):\n",
        "  lst.sort()\n",
        "  n = len(lst)\n",
        "  for i, num in enumerate(lst):\n",
        "    if (i+1) / n >= val :\n",
        "      return num\n",
        "  return num"
      ],
      "metadata": {
        "id": "IGnipkd1lAke"
      },
      "execution_count": null,
      "outputs": []
    },
    {
      "cell_type": "code",
      "source": [
        "B = 400\n",
        "bootstrap_deltas = np.zeros(B)\n",
        "Females_np= Females[\"Curricular units 1st sem (grade)\"].to_numpy()\n",
        "Males_np = Males[\"Curricular units 1st sem (grade)\"].to_numpy()\n",
        "\n",
        "for i in range(B):\n",
        " females_sample = np.random.choice(Females_np, size=Females_np.shape[0],\n",
        " replace=True)\n",
        " Males_sample = np.random.choice(Males_np, size=Males_np.shape[0],\n",
        " replace=True)\n",
        " bootstrap_delta = np.median(Males_sample) - np.median(females_sample)\n",
        " bootstrap_deltas[i] = bootstrap_delta\n",
        "lb = quant(bootstrap_deltas, 0.025)\n",
        "ub = quant(bootstrap_deltas, 0.975)\n",
        "print(f\"The quantile based CI, for median difference is: {[lb, ub]}\")"
      ],
      "metadata": {
        "colab": {
          "base_uri": "https://localhost:8080/"
        },
        "id": "wMS22IBSlCO3",
        "outputId": "0cef1e02-30ad-4738-e876-ed4e8cad7039"
      },
      "execution_count": null,
      "outputs": [
        {
          "output_type": "stream",
          "name": "stdout",
          "text": [
            "The quantile based CI, for median difference is: [-1.4000000000000004, 0.0]\n"
          ]
        }
      ]
    },
    {
      "cell_type": "markdown",
      "source": [
        "c."
      ],
      "metadata": {
        "id": "_rVzIXQ7lOZd"
      }
    },
    {
      "cell_type": "code",
      "source": [
        "total_Females = df[df[\"Gender\"] == \"Female\"]\n",
        "total_Males = df[df[\"Gender\"] == \"Male\"]\n",
        "\n",
        "m2_hat = np.quantile(total_Males[\"Curricular units 1st sem (grade)\"], 0.5)\n",
        "m1_hat = np.quantile(total_Females[\"Curricular units 1st sem (grade)\"], 0.5)\n",
        "delta_m_total = m2_hat - m1_hat\n",
        "\n",
        "print(f'estimator for m1 is: {m1_hat}')\n",
        "print(f'estimator for m2 is: {m2_hat}')\n",
        "print(f'estimator for m2-m1 is: {delta_m_total}')"
      ],
      "metadata": {
        "colab": {
          "base_uri": "https://localhost:8080/"
        },
        "id": "bEPIgNf7lPfM",
        "outputId": "63f40ad8-8aa7-4b72-cccb-9ad6dac7bf7f"
      },
      "execution_count": null,
      "outputs": [
        {
          "output_type": "stream",
          "name": "stdout",
          "text": [
            "estimator for m1 is: 12.5\n",
            "estimator for m2 is: 11.833333333333334\n",
            "estimator for m2-m1 is: -0.6666666666666661\n"
          ]
        }
      ]
    },
    {
      "cell_type": "markdown",
      "source": [
        "We got that the estimator for delta is in the CI."
      ],
      "metadata": {
        "id": "FHA9OFwMlvdZ"
      }
    },
    {
      "cell_type": "markdown",
      "source": [
        "d."
      ],
      "metadata": {
        "id": "sLqdEaBMmE4L"
      }
    },
    {
      "cell_type": "code",
      "source": [
        "B = 1000\n",
        "counter = 0\n",
        "for b in range(B):\n",
        "    indices = sample.index.tolist()\n",
        "    Females_indices = random.sample(indices, n1)\n",
        "    Males_indices = set(indices).difference(set(Females_indices))\n",
        "\n",
        "    m_1_perm = sample[\"Curricular units 1st sem (grade)\"][list(Females_indices)].median()\n",
        "    m_2_perm = sample[\"Curricular units 1st sem (grade)\"][list(Males_indices)].median()\n",
        "\n",
        "    if m_2_perm - m_1_perm >= delta_m:\n",
        "        counter += 1\n",
        "\n",
        "pval = counter/B\n",
        "\n",
        "print(\"p-value is: \", pval)\n",
        "print('We reject H0' if 0.05 > pval else 'We do not reject H0')"
      ],
      "metadata": {
        "colab": {
          "base_uri": "https://localhost:8080/"
        },
        "id": "DiVKFqgQlzSj",
        "outputId": "9efb231d-c6fe-4065-8c87-6743dca24f2f"
      },
      "execution_count": null,
      "outputs": [
        {
          "output_type": "stream",
          "name": "stdout",
          "text": [
            "p-value is:  0.975\n",
            "We do not reject H0\n"
          ]
        }
      ]
    },
    {
      "cell_type": "markdown",
      "source": [
        "e."
      ],
      "metadata": {
        "id": "lJtts5lImN2Z"
      }
    },
    {
      "cell_type": "markdown",
      "source": [
        "t-test: designed for normally distributed data - which is obviously not the case here, as we have shown the histogrmas we saw earlier are not even symmetric.\n",
        "\n",
        "Wald's test: We can use wald's test even though the data is not normally distributed, as we saw in the lecture but only if the test statistic is asymptotically normal. notice that we do not know the statistical model thus we can not know if the medians difference estimator is an MLE so we are not certian that the test statistic is indeed asymptotically normal according to lecture. thus the only way is to check if it is asymptotically normal which we do not have enough information to check if this assumption holds, so we can't use wald's test here."
      ],
      "metadata": {
        "id": "2z24lcZrmQHJ"
      }
    },
    {
      "cell_type": "markdown",
      "source": [
        "5)"
      ],
      "metadata": {
        "id": "bKrZ8mB3mS7m"
      }
    },
    {
      "cell_type": "code",
      "source": [
        "sample_ranked = sample.copy()\n",
        "sample_ranked['rank'] = sample_ranked[\"Curricular units 1st sem (grade)\"].rank()\n",
        "s1 = sum(sample_ranked[sample_ranked[\"Gender\"]=='Male'][\"rank\"])\n",
        "print(f\"The sum of Males ranks is {s1}\")"
      ],
      "metadata": {
        "colab": {
          "base_uri": "https://localhost:8080/"
        },
        "id": "6p484lJLmUDy",
        "outputId": "d33cc6e2-ded5-4b76-c59d-b1dc6ab51db7"
      },
      "execution_count": null,
      "outputs": [
        {
          "output_type": "stream",
          "name": "stdout",
          "text": [
            "The sum of Males ranks is 6157.5\n"
          ]
        }
      ]
    },
    {
      "cell_type": "markdown",
      "source": [
        "we will use wilcoxon rank-sum test:"
      ],
      "metadata": {
        "id": "JotZJGbmme0Y"
      }
    },
    {
      "cell_type": "code",
      "source": [
        "B = 10000\n",
        "rej = 0\n",
        "\n",
        "for _ in range(B):\n",
        " Males_indices = np.random.choice(n1+n2, n1, replace=False)\n",
        " permutation_Males_ranks = sample_ranked[\"rank\"].to_numpy()[Males_indices]\n",
        " permutation_s1 = sum(permutation_Males_ranks)\n",
        " rej += int(permutation_s1 >= s1)\n",
        "p_value = rej / B\n",
        "\n",
        "print(f\"The p-value is: {p_value}\")\n",
        "if p_value > 0.05:\n",
        "  print(\"Do not reject H0\")\n",
        "else:\n",
        "  print('Reject H0')"
      ],
      "metadata": {
        "colab": {
          "base_uri": "https://localhost:8080/"
        },
        "id": "TDMMnfb3mOsj",
        "outputId": "a4956b4d-711d-47b8-bedb-3a5a8b611078"
      },
      "execution_count": null,
      "outputs": [
        {
          "output_type": "stream",
          "name": "stdout",
          "text": [
            "The p-value is: 1.0\n",
            "Do not reject H0\n"
          ]
        }
      ]
    },
    {
      "cell_type": "markdown",
      "source": [
        "We can use the normal approximation since as we saw in class, the sum of ranks of a random permutation is approximately normally distributed"
      ],
      "metadata": {
        "id": "KT04-zVVm1L-"
      }
    },
    {
      "cell_type": "code",
      "source": [
        "from scipy.stats import norm\n",
        "\n",
        "expected = n2 * (n1+n2 + 1) / 2\n",
        "variance = expected * n1 / 6\n",
        "w = (s1 - expected) / (variance)**0.5\n",
        "quantile=norm.cdf(0.95)\n",
        "if w >=quantile:\n",
        "  print(\"reject H0\")\n",
        "else:\n",
        "  print('do not Reject H0')"
      ],
      "metadata": {
        "colab": {
          "base_uri": "https://localhost:8080/"
        },
        "id": "wqPtlAkEm190",
        "outputId": "ea093833-8492-417e-976e-32c08c6e9394"
      },
      "execution_count": null,
      "outputs": [
        {
          "output_type": "stream",
          "name": "stdout",
          "text": [
            "do not Reject H0\n"
          ]
        }
      ]
    },
    {
      "cell_type": "markdown",
      "source": [
        "in the two tests we got that we should not reject H0"
      ],
      "metadata": {
        "id": "w30lukw2m7wj"
      }
    },
    {
      "cell_type": "markdown",
      "source": [
        "6)"
      ],
      "metadata": {
        "id": "juHbRJFcnDgK"
      }
    },
    {
      "cell_type": "markdown",
      "source": [
        "The results in all 4-5 tests we have performed are conclusive - do not reject the null hypothesis,while in 3 sometimes we got reject the null hypothesis and sometimes do not reject.The difference in the results we have got might have happened becuase we know that median is not sensitive to outliers while the mean is sensitive to outliers and since we saw in EX1 there are a lot of outliers thus this might affect our results ,In addition the data is not balanced we might have number of females larger than males thus checking the hypothesis using the mean might get affected from the unbalanced data while the median is less sensitive from unbalanced data.Overall ,the answer to our question is that we can deduce that there is not a statisical significant difference between Females Curricular units 1st sem (grade) and Males Curricular units 1st sem (grade).According to the histogram we have shown earlier in this project we can see a small difference between these two groups"
      ],
      "metadata": {
        "id": "WwxUK5BxnEXc"
      }
    },
    {
      "cell_type": "code",
      "source": [],
      "metadata": {
        "id": "BIfs981Pm9TA"
      },
      "execution_count": null,
      "outputs": []
    }
  ]
}